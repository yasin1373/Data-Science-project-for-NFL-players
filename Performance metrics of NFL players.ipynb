{
 "cells": [
  {
   "cell_type": "code",
   "execution_count": 41,
   "id": "a01e909b",
   "metadata": {},
   "outputs": [
    {
     "data": {
      "text/html": [
       "<table class=\"dataframe\">\n",
       "<caption>A data.frame: 6 × 18</caption>\n",
       "<thead>\n",
       "\t<tr><th></th><th scope=col>Date</th><th scope=col>Name</th><th scope=col>Session</th><th scope=col>GPS.Load</th><th scope=col>Total.Distance</th><th scope=col>Low.Intensity.Distance</th><th scope=col>Moderate.Intensity.Distance</th><th scope=col>High.Intensity.Distance</th><th scope=col>Sprint.Distance</th><th scope=col>Total.Acceleration</th><th scope=col>Med..Intensity.Accel.Count</th><th scope=col>High.Int..Accel.Count</th><th scope=col>Max.Int..Accel.Count</th><th scope=col>Total.Deceleration</th><th scope=col>Med..Intensity.Decel.Count</th><th scope=col>High.Intensity.Decel.Counts</th><th scope=col>Max.Intensity.Decel.Counts</th><th scope=col>Top.Sprint.Speed</th></tr>\n",
       "\t<tr><th></th><th scope=col>&lt;chr&gt;</th><th scope=col>&lt;chr&gt;</th><th scope=col>&lt;chr&gt;</th><th scope=col>&lt;int&gt;</th><th scope=col>&lt;int&gt;</th><th scope=col>&lt;dbl&gt;</th><th scope=col>&lt;dbl&gt;</th><th scope=col>&lt;dbl&gt;</th><th scope=col>&lt;dbl&gt;</th><th scope=col>&lt;int&gt;</th><th scope=col>&lt;dbl&gt;</th><th scope=col>&lt;dbl&gt;</th><th scope=col>&lt;dbl&gt;</th><th scope=col>&lt;int&gt;</th><th scope=col>&lt;dbl&gt;</th><th scope=col>&lt;dbl&gt;</th><th scope=col>&lt;dbl&gt;</th><th scope=col>&lt;dbl&gt;</th></tr>\n",
       "</thead>\n",
       "<tbody>\n",
       "\t<tr><th scope=row>1</th><td>2023-07-14</td><td>Lance Boykin</td><td>Tempo</td><td> 62</td><td>1348</td><td>215.68</td><td>337.00</td><td>471.80</td><td>323.52</td><td>15</td><td>2.40</td><td>4.5</td><td>8.10</td><td>12</td><td> 7.44</td><td>4.308</td><td>0.252</td><td>15.46</td></tr>\n",
       "\t<tr><th scope=row>2</th><td>2023-07-07</td><td>Joey Blount </td><td>Tempo</td><td>196</td><td>1346</td><td>215.36</td><td>336.50</td><td>471.10</td><td>323.04</td><td>18</td><td>2.88</td><td>5.4</td><td>9.72</td><td>17</td><td>10.54</td><td>6.103</td><td>0.357</td><td>14.81</td></tr>\n",
       "\t<tr><th scope=row>3</th><td>2023-07-14</td><td>Joey Blount </td><td>Tempo</td><td>219</td><td>1343</td><td>214.88</td><td>335.75</td><td>470.05</td><td>322.32</td><td>13</td><td>2.08</td><td>3.9</td><td>7.02</td><td>16</td><td> 9.92</td><td>5.744</td><td>0.336</td><td>17.09</td></tr>\n",
       "\t<tr><th scope=row>4</th><td>2023-08-04</td><td>Joey Blount </td><td>Tempo</td><td>221</td><td>1332</td><td>213.12</td><td>333.00</td><td>466.20</td><td>319.68</td><td> 9</td><td>1.44</td><td>2.7</td><td>4.86</td><td>16</td><td> 9.92</td><td>5.744</td><td>0.336</td><td>21.07</td></tr>\n",
       "\t<tr><th scope=row>5</th><td>2023-08-11</td><td>MJ Anderson </td><td>Tempo</td><td>198</td><td>1324</td><td>211.84</td><td>331.00</td><td>463.40</td><td>317.76</td><td>10</td><td>1.60</td><td>3.0</td><td>5.40</td><td>19</td><td>11.78</td><td>6.821</td><td>0.399</td><td>14.02</td></tr>\n",
       "\t<tr><th scope=row>6</th><td>2023-07-07</td><td>Jamal Adams </td><td>Tempo</td><td>107</td><td>1317</td><td>210.72</td><td>329.25</td><td>460.95</td><td>316.08</td><td>13</td><td>2.08</td><td>3.9</td><td>7.02</td><td>15</td><td> 9.30</td><td>5.385</td><td>0.315</td><td>16.23</td></tr>\n",
       "</tbody>\n",
       "</table>\n"
      ],
      "text/latex": [
       "A data.frame: 6 × 18\n",
       "\\begin{tabular}{r|llllllllllllllllll}\n",
       "  & Date & Name & Session & GPS.Load & Total.Distance & Low.Intensity.Distance & Moderate.Intensity.Distance & High.Intensity.Distance & Sprint.Distance & Total.Acceleration & Med..Intensity.Accel.Count & High.Int..Accel.Count & Max.Int..Accel.Count & Total.Deceleration & Med..Intensity.Decel.Count & High.Intensity.Decel.Counts & Max.Intensity.Decel.Counts & Top.Sprint.Speed\\\\\n",
       "  & <chr> & <chr> & <chr> & <int> & <int> & <dbl> & <dbl> & <dbl> & <dbl> & <int> & <dbl> & <dbl> & <dbl> & <int> & <dbl> & <dbl> & <dbl> & <dbl>\\\\\n",
       "\\hline\n",
       "\t1 & 2023-07-14 & Lance Boykin & Tempo &  62 & 1348 & 215.68 & 337.00 & 471.80 & 323.52 & 15 & 2.40 & 4.5 & 8.10 & 12 &  7.44 & 4.308 & 0.252 & 15.46\\\\\n",
       "\t2 & 2023-07-07 & Joey Blount  & Tempo & 196 & 1346 & 215.36 & 336.50 & 471.10 & 323.04 & 18 & 2.88 & 5.4 & 9.72 & 17 & 10.54 & 6.103 & 0.357 & 14.81\\\\\n",
       "\t3 & 2023-07-14 & Joey Blount  & Tempo & 219 & 1343 & 214.88 & 335.75 & 470.05 & 322.32 & 13 & 2.08 & 3.9 & 7.02 & 16 &  9.92 & 5.744 & 0.336 & 17.09\\\\\n",
       "\t4 & 2023-08-04 & Joey Blount  & Tempo & 221 & 1332 & 213.12 & 333.00 & 466.20 & 319.68 &  9 & 1.44 & 2.7 & 4.86 & 16 &  9.92 & 5.744 & 0.336 & 21.07\\\\\n",
       "\t5 & 2023-08-11 & MJ Anderson  & Tempo & 198 & 1324 & 211.84 & 331.00 & 463.40 & 317.76 & 10 & 1.60 & 3.0 & 5.40 & 19 & 11.78 & 6.821 & 0.399 & 14.02\\\\\n",
       "\t6 & 2023-07-07 & Jamal Adams  & Tempo & 107 & 1317 & 210.72 & 329.25 & 460.95 & 316.08 & 13 & 2.08 & 3.9 & 7.02 & 15 &  9.30 & 5.385 & 0.315 & 16.23\\\\\n",
       "\\end{tabular}\n"
      ],
      "text/markdown": [
       "\n",
       "A data.frame: 6 × 18\n",
       "\n",
       "| <!--/--> | Date &lt;chr&gt; | Name &lt;chr&gt; | Session &lt;chr&gt; | GPS.Load &lt;int&gt; | Total.Distance &lt;int&gt; | Low.Intensity.Distance &lt;dbl&gt; | Moderate.Intensity.Distance &lt;dbl&gt; | High.Intensity.Distance &lt;dbl&gt; | Sprint.Distance &lt;dbl&gt; | Total.Acceleration &lt;int&gt; | Med..Intensity.Accel.Count &lt;dbl&gt; | High.Int..Accel.Count &lt;dbl&gt; | Max.Int..Accel.Count &lt;dbl&gt; | Total.Deceleration &lt;int&gt; | Med..Intensity.Decel.Count &lt;dbl&gt; | High.Intensity.Decel.Counts &lt;dbl&gt; | Max.Intensity.Decel.Counts &lt;dbl&gt; | Top.Sprint.Speed &lt;dbl&gt; |\n",
       "|---|---|---|---|---|---|---|---|---|---|---|---|---|---|---|---|---|---|---|\n",
       "| 1 | 2023-07-14 | Lance Boykin | Tempo |  62 | 1348 | 215.68 | 337.00 | 471.80 | 323.52 | 15 | 2.40 | 4.5 | 8.10 | 12 |  7.44 | 4.308 | 0.252 | 15.46 |\n",
       "| 2 | 2023-07-07 | Joey Blount  | Tempo | 196 | 1346 | 215.36 | 336.50 | 471.10 | 323.04 | 18 | 2.88 | 5.4 | 9.72 | 17 | 10.54 | 6.103 | 0.357 | 14.81 |\n",
       "| 3 | 2023-07-14 | Joey Blount  | Tempo | 219 | 1343 | 214.88 | 335.75 | 470.05 | 322.32 | 13 | 2.08 | 3.9 | 7.02 | 16 |  9.92 | 5.744 | 0.336 | 17.09 |\n",
       "| 4 | 2023-08-04 | Joey Blount  | Tempo | 221 | 1332 | 213.12 | 333.00 | 466.20 | 319.68 |  9 | 1.44 | 2.7 | 4.86 | 16 |  9.92 | 5.744 | 0.336 | 21.07 |\n",
       "| 5 | 2023-08-11 | MJ Anderson  | Tempo | 198 | 1324 | 211.84 | 331.00 | 463.40 | 317.76 | 10 | 1.60 | 3.0 | 5.40 | 19 | 11.78 | 6.821 | 0.399 | 14.02 |\n",
       "| 6 | 2023-07-07 | Jamal Adams  | Tempo | 107 | 1317 | 210.72 | 329.25 | 460.95 | 316.08 | 13 | 2.08 | 3.9 | 7.02 | 15 |  9.30 | 5.385 | 0.315 | 16.23 |\n",
       "\n"
      ],
      "text/plain": [
       "  Date       Name         Session GPS.Load Total.Distance\n",
       "1 2023-07-14 Lance Boykin Tempo    62      1348          \n",
       "2 2023-07-07 Joey Blount  Tempo   196      1346          \n",
       "3 2023-07-14 Joey Blount  Tempo   219      1343          \n",
       "4 2023-08-04 Joey Blount  Tempo   221      1332          \n",
       "5 2023-08-11 MJ Anderson  Tempo   198      1324          \n",
       "6 2023-07-07 Jamal Adams  Tempo   107      1317          \n",
       "  Low.Intensity.Distance Moderate.Intensity.Distance High.Intensity.Distance\n",
       "1 215.68                 337.00                      471.80                 \n",
       "2 215.36                 336.50                      471.10                 \n",
       "3 214.88                 335.75                      470.05                 \n",
       "4 213.12                 333.00                      466.20                 \n",
       "5 211.84                 331.00                      463.40                 \n",
       "6 210.72                 329.25                      460.95                 \n",
       "  Sprint.Distance Total.Acceleration Med..Intensity.Accel.Count\n",
       "1 323.52          15                 2.40                      \n",
       "2 323.04          18                 2.88                      \n",
       "3 322.32          13                 2.08                      \n",
       "4 319.68           9                 1.44                      \n",
       "5 317.76          10                 1.60                      \n",
       "6 316.08          13                 2.08                      \n",
       "  High.Int..Accel.Count Max.Int..Accel.Count Total.Deceleration\n",
       "1 4.5                   8.10                 12                \n",
       "2 5.4                   9.72                 17                \n",
       "3 3.9                   7.02                 16                \n",
       "4 2.7                   4.86                 16                \n",
       "5 3.0                   5.40                 19                \n",
       "6 3.9                   7.02                 15                \n",
       "  Med..Intensity.Decel.Count High.Intensity.Decel.Counts\n",
       "1  7.44                      4.308                      \n",
       "2 10.54                      6.103                      \n",
       "3  9.92                      5.744                      \n",
       "4  9.92                      5.744                      \n",
       "5 11.78                      6.821                      \n",
       "6  9.30                      5.385                      \n",
       "  Max.Intensity.Decel.Counts Top.Sprint.Speed\n",
       "1 0.252                      15.46           \n",
       "2 0.357                      14.81           \n",
       "3 0.336                      17.09           \n",
       "4 0.336                      21.07           \n",
       "5 0.399                      14.02           \n",
       "6 0.315                      16.23           "
      ]
     },
     "metadata": {},
     "output_type": "display_data"
    }
   ],
   "source": [
    "## Import data\n",
    "\n",
    "data <- read.csv('NFL football palyers dataset.csv')\n",
    "head(data)"
   ]
  },
  {
   "cell_type": "code",
   "execution_count": 42,
   "id": "b77f1a9d",
   "metadata": {},
   "outputs": [
    {
     "name": "stdout",
     "output_type": "stream",
     "text": [
      "'data.frame':\t184 obs. of  18 variables:\n",
      " $ Date                       : chr  \"2023-07-14\" \"2023-07-07\" \"2023-07-14\" \"2023-08-04\" ...\n",
      " $ Name                       : chr  \"Lance Boykin\" \"Joey Blount\" \"Joey Blount\" \"Joey Blount\" ...\n",
      " $ Session                    : chr  \"Tempo\" \"Tempo\" \"Tempo\" \"Tempo\" ...\n",
      " $ GPS.Load                   : int  62 196 219 221 198 107 140 184 56 182 ...\n",
      " $ Total.Distance             : int  1348 1346 1343 1332 1324 1317 1299 1291 1291 1273 ...\n",
      " $ Low.Intensity.Distance     : num  216 215 215 213 212 ...\n",
      " $ Moderate.Intensity.Distance: num  337 336 336 333 331 ...\n",
      " $ High.Intensity.Distance    : num  472 471 470 466 463 ...\n",
      " $ Sprint.Distance            : num  324 323 322 320 318 ...\n",
      " $ Total.Acceleration         : int  15 18 13 9 10 13 16 17 17 8 ...\n",
      " $ Med..Intensity.Accel.Count : num  2.4 2.88 2.08 1.44 1.6 2.08 2.56 2.72 2.72 1.28 ...\n",
      " $ High.Int..Accel.Count      : num  4.5 5.4 3.9 2.7 3 3.9 4.8 5.1 5.1 2.4 ...\n",
      " $ Max.Int..Accel.Count       : num  8.1 9.72 7.02 4.86 5.4 7.02 8.64 9.18 9.18 4.32 ...\n",
      " $ Total.Deceleration         : int  12 17 16 16 19 15 12 15 15 19 ...\n",
      " $ Med..Intensity.Decel.Count : num  7.44 10.54 9.92 9.92 11.78 ...\n",
      " $ High.Intensity.Decel.Counts: num  4.31 6.1 5.74 5.74 6.82 ...\n",
      " $ Max.Intensity.Decel.Counts : num  0.252 0.357 0.336 0.336 0.399 0.315 0.252 0.315 0.315 0.399 ...\n",
      " $ Top.Sprint.Speed           : num  15.5 14.8 17.1 21.1 14 ...\n"
     ]
    },
    {
     "data": {
      "text/plain": [
       "     Date               Name             Session             GPS.Load     \n",
       " Length:184         Length:184         Length:184         Min.   : 13.00  \n",
       " Class :character   Class :character   Class :character   1st Qu.: 34.75  \n",
       " Mode  :character   Mode  :character   Mode  :character   Median : 59.50  \n",
       "                                                          Mean   : 74.15  \n",
       "                                                          3rd Qu.: 99.50  \n",
       "                                                          Max.   :230.00  \n",
       " Total.Distance Low.Intensity.Distance Moderate.Intensity.Distance\n",
       " Min.   : 901   Min.   :145.3          Min.   :227.0              \n",
       " 1st Qu.:1004   1st Qu.:215.2          1st Qu.:281.9              \n",
       " Median :1130   Median :285.4          Median :334.3              \n",
       " Mean   :1124   Mean   :272.2          Mean   :363.5              \n",
       " 3rd Qu.:1246   3rd Qu.:321.1          3rd Qu.:439.6              \n",
       " Max.   :1348   Max.   :397.2          Max.   :565.3              \n",
       " High.Intensity.Distance Sprint.Distance  Total.Acceleration\n",
       " Min.   :199.3           Min.   : 63.07   Min.   :  8.00    \n",
       " 1st Qu.:265.2           1st Qu.: 92.94   1st Qu.: 17.00    \n",
       " Median :313.9           Median :144.93   Median : 54.50    \n",
       " Mean   :316.0           Mean   :171.79   Mean   : 58.49    \n",
       " 3rd Qu.:362.5           3rd Qu.:246.54   3rd Qu.: 91.00    \n",
       " Max.   :471.8           Max.   :323.52   Max.   :137.00    \n",
       " Med..Intensity.Accel.Count High.Int..Accel.Count Max.Int..Accel.Count\n",
       " Min.   : 1.28              Min.   : 2.40         Min.   : 4.32       \n",
       " 1st Qu.: 2.72              1st Qu.: 4.80         1st Qu.: 8.10       \n",
       " Median :21.11              Median :11.99         Median :15.26       \n",
       " Mean   :18.38              Mean   :18.32         Mean   :21.80       \n",
       " 3rd Qu.:26.82              3rd Qu.:27.39         3rd Qu.:31.15       \n",
       " Max.   :40.00              Max.   :50.69         Max.   :57.54       \n",
       " Total.Deceleration Med..Intensity.Decel.Count High.Intensity.Decel.Counts\n",
       " Min.   :12.00      Min.   : 7.44              Min.   : 4.308             \n",
       " 1st Qu.:21.00      1st Qu.:13.02              1st Qu.: 7.539             \n",
       " Median :48.50      Median :25.22              Median :14.550             \n",
       " Mean   :51.39      Mean   :25.77              Mean   :15.864             \n",
       " 3rd Qu.:79.00      3rd Qu.:36.23              3rd Qu.:24.024             \n",
       " Max.   :88.00      Max.   :48.40              Max.   :27.456             \n",
       " Max.Intensity.Decel.Counts Top.Sprint.Speed\n",
       " Min.   : 0.252             Min.   :10.16   \n",
       " 1st Qu.: 0.441             1st Qu.:15.24   \n",
       " Median : 8.730             Median :17.16   \n",
       " Mean   : 9.754             Mean   :17.49   \n",
       " 3rd Qu.:17.600             3rd Qu.:20.11   \n",
       " Max.   :24.200             Max.   :23.93   "
      ]
     },
     "metadata": {},
     "output_type": "display_data"
    }
   ],
   "source": [
    "## Inspect structure and summary statistics of the data\n",
    "\n",
    "str(data)\n",
    "summary(data)"
   ]
  },
  {
   "cell_type": "code",
   "execution_count": 22,
   "id": "4c1368d0",
   "metadata": {},
   "outputs": [
    {
     "data": {
      "text/html": [
       "<table class=\"dataframe\">\n",
       "<caption>A data.frame: 6 × 2</caption>\n",
       "<thead>\n",
       "\t<tr><th></th><th scope=col>Name</th><th scope=col>Top.Sprint.Speed</th></tr>\n",
       "\t<tr><th></th><th scope=col>&lt;chr&gt;</th><th scope=col>&lt;dbl&gt;</th></tr>\n",
       "</thead>\n",
       "<tbody>\n",
       "\t<tr><th scope=row>1</th><td>Lance Boykin </td><td>23.93</td></tr>\n",
       "\t<tr><th scope=row>2</th><td>MJ Anderson  </td><td>23.82</td></tr>\n",
       "\t<tr><th scope=row>3</th><td>Jake Bobo    </td><td>23.78</td></tr>\n",
       "\t<tr><th scope=row>4</th><td>Nick Bellore </td><td>23.57</td></tr>\n",
       "\t<tr><th scope=row>5</th><td>Holton Ahlers</td><td>22.88</td></tr>\n",
       "\t<tr><th scope=row>6</th><td>Lance Boykin </td><td>22.85</td></tr>\n",
       "</tbody>\n",
       "</table>\n"
      ],
      "text/latex": [
       "A data.frame: 6 × 2\n",
       "\\begin{tabular}{r|ll}\n",
       "  & Name & Top.Sprint.Speed\\\\\n",
       "  & <chr> & <dbl>\\\\\n",
       "\\hline\n",
       "\t1 & Lance Boykin  & 23.93\\\\\n",
       "\t2 & MJ Anderson   & 23.82\\\\\n",
       "\t3 & Jake Bobo     & 23.78\\\\\n",
       "\t4 & Nick Bellore  & 23.57\\\\\n",
       "\t5 & Holton Ahlers & 22.88\\\\\n",
       "\t6 & Lance Boykin  & 22.85\\\\\n",
       "\\end{tabular}\n"
      ],
      "text/markdown": [
       "\n",
       "A data.frame: 6 × 2\n",
       "\n",
       "| <!--/--> | Name &lt;chr&gt; | Top.Sprint.Speed &lt;dbl&gt; |\n",
       "|---|---|---|\n",
       "| 1 | Lance Boykin  | 23.93 |\n",
       "| 2 | MJ Anderson   | 23.82 |\n",
       "| 3 | Jake Bobo     | 23.78 |\n",
       "| 4 | Nick Bellore  | 23.57 |\n",
       "| 5 | Holton Ahlers | 22.88 |\n",
       "| 6 | Lance Boykin  | 22.85 |\n",
       "\n"
      ],
      "text/plain": [
       "  Name          Top.Sprint.Speed\n",
       "1 Lance Boykin  23.93           \n",
       "2 MJ Anderson   23.82           \n",
       "3 Jake Bobo     23.78           \n",
       "4 Nick Bellore  23.57           \n",
       "5 Holton Ahlers 22.88           \n",
       "6 Lance Boykin  22.85           "
      ]
     },
     "metadata": {},
     "output_type": "display_data"
    }
   ],
   "source": [
    "## Which players had the highest top 6 sprint speeds overall? This could identify the fastest players.\n",
    "data %>% \n",
    "  select(c(Name, Top.Sprint.Speed))  %>% \n",
    "  arrange(by_group = desc(Top.Sprint.Speed))  %>% \n",
    "  head() "
   ]
  },
  {
   "cell_type": "code",
   "execution_count": 24,
   "id": "40e2cbd6",
   "metadata": {},
   "outputs": [
    {
     "data": {
      "text/html": [
       "<table class=\"dataframe\">\n",
       "<caption>A tibble: 6 × 2</caption>\n",
       "<thead>\n",
       "\t<tr><th scope=col>Name</th><th scope=col>Top.Speeds</th></tr>\n",
       "\t<tr><th scope=col>&lt;chr&gt;</th><th scope=col>&lt;dbl&gt;</th></tr>\n",
       "</thead>\n",
       "<tbody>\n",
       "\t<tr><td>Lance Boykin </td><td>18.41783</td></tr>\n",
       "\t<tr><td>MJ Anderson  </td><td>17.87696</td></tr>\n",
       "\t<tr><td>Holton Ahlers</td><td>17.74652</td></tr>\n",
       "\t<tr><td>Jamal Adams  </td><td>17.47739</td></tr>\n",
       "\t<tr><td>Nick Bellore </td><td>17.37783</td></tr>\n",
       "\t<tr><td>Joey Blount  </td><td>17.06478</td></tr>\n",
       "</tbody>\n",
       "</table>\n"
      ],
      "text/latex": [
       "A tibble: 6 × 2\n",
       "\\begin{tabular}{ll}\n",
       " Name & Top.Speeds\\\\\n",
       " <chr> & <dbl>\\\\\n",
       "\\hline\n",
       "\t Lance Boykin  & 18.41783\\\\\n",
       "\t MJ Anderson   & 17.87696\\\\\n",
       "\t Holton Ahlers & 17.74652\\\\\n",
       "\t Jamal Adams   & 17.47739\\\\\n",
       "\t Nick Bellore  & 17.37783\\\\\n",
       "\t Joey Blount   & 17.06478\\\\\n",
       "\\end{tabular}\n"
      ],
      "text/markdown": [
       "\n",
       "A tibble: 6 × 2\n",
       "\n",
       "| Name &lt;chr&gt; | Top.Speeds &lt;dbl&gt; |\n",
       "|---|---|\n",
       "| Lance Boykin  | 18.41783 |\n",
       "| MJ Anderson   | 17.87696 |\n",
       "| Holton Ahlers | 17.74652 |\n",
       "| Jamal Adams   | 17.47739 |\n",
       "| Nick Bellore  | 17.37783 |\n",
       "| Joey Blount   | 17.06478 |\n",
       "\n"
      ],
      "text/plain": [
       "  Name          Top.Speeds\n",
       "1 Lance Boykin  18.41783  \n",
       "2 MJ Anderson   17.87696  \n",
       "3 Holton Ahlers 17.74652  \n",
       "4 Jamal Adams   17.47739  \n",
       "5 Nick Bellore  17.37783  \n",
       "6 Joey Blount   17.06478  "
      ]
     },
     "metadata": {},
     "output_type": "display_data"
    }
   ],
   "source": [
    "## Which players had the highest top 6 sprint speeds on average? This could identify the fastest players.\n",
    "data  %>% \n",
    "  group_by(Name)  %>% \n",
    "  summarize(Top.Speeds = mean(Top.Sprint.Speed))  %>% \n",
    "  arrange(desc(Top.Speeds))  %>% \n",
    "  head()"
   ]
  },
  {
   "cell_type": "code",
   "execution_count": 32,
   "id": "12b3ca3a",
   "metadata": {},
   "outputs": [
    {
     "data": {
      "text/html": [
       "<table class=\"dataframe\">\n",
       "<caption>A tibble: 8 × 3</caption>\n",
       "<thead>\n",
       "\t<tr><th scope=col>Name</th><th scope=col>total.distance.covered</th><th scope=col>sprint.distance.covered</th></tr>\n",
       "\t<tr><th scope=col>&lt;chr&gt;</th><th scope=col>&lt;int&gt;</th><th scope=col>&lt;dbl&gt;</th></tr>\n",
       "</thead>\n",
       "<tbody>\n",
       "\t<tr><td>Joey Blount  </td><td>27585</td><td>4208.06</td></tr>\n",
       "\t<tr><td>Nick Bellore </td><td>26213</td><td>3982.60</td></tr>\n",
       "\t<tr><td>Jake Bobo    </td><td>26093</td><td>4029.40</td></tr>\n",
       "\t<tr><td>Myles Adams  </td><td>25831</td><td>3880.77</td></tr>\n",
       "\t<tr><td>Jamal Adams  </td><td>25463</td><td>3934.91</td></tr>\n",
       "\t<tr><td>Holton Ahlers</td><td>25340</td><td>3919.28</td></tr>\n",
       "\t<tr><td>MJ Anderson  </td><td>25270</td><td>3799.60</td></tr>\n",
       "\t<tr><td>Lance Boykin </td><td>24931</td><td>3855.16</td></tr>\n",
       "</tbody>\n",
       "</table>\n"
      ],
      "text/latex": [
       "A tibble: 8 × 3\n",
       "\\begin{tabular}{lll}\n",
       " Name & total.distance.covered & sprint.distance.covered\\\\\n",
       " <chr> & <int> & <dbl>\\\\\n",
       "\\hline\n",
       "\t Joey Blount   & 27585 & 4208.06\\\\\n",
       "\t Nick Bellore  & 26213 & 3982.60\\\\\n",
       "\t Jake Bobo     & 26093 & 4029.40\\\\\n",
       "\t Myles Adams   & 25831 & 3880.77\\\\\n",
       "\t Jamal Adams   & 25463 & 3934.91\\\\\n",
       "\t Holton Ahlers & 25340 & 3919.28\\\\\n",
       "\t MJ Anderson   & 25270 & 3799.60\\\\\n",
       "\t Lance Boykin  & 24931 & 3855.16\\\\\n",
       "\\end{tabular}\n"
      ],
      "text/markdown": [
       "\n",
       "A tibble: 8 × 3\n",
       "\n",
       "| Name &lt;chr&gt; | total.distance.covered &lt;int&gt; | sprint.distance.covered &lt;dbl&gt; |\n",
       "|---|---|---|\n",
       "| Joey Blount   | 27585 | 4208.06 |\n",
       "| Nick Bellore  | 26213 | 3982.60 |\n",
       "| Jake Bobo     | 26093 | 4029.40 |\n",
       "| Myles Adams   | 25831 | 3880.77 |\n",
       "| Jamal Adams   | 25463 | 3934.91 |\n",
       "| Holton Ahlers | 25340 | 3919.28 |\n",
       "| MJ Anderson   | 25270 | 3799.60 |\n",
       "| Lance Boykin  | 24931 | 3855.16 |\n",
       "\n"
      ],
      "text/plain": [
       "  Name          total.distance.covered sprint.distance.covered\n",
       "1 Joey Blount   27585                  4208.06                \n",
       "2 Nick Bellore  26213                  3982.60                \n",
       "3 Jake Bobo     26093                  4029.40                \n",
       "4 Myles Adams   25831                  3880.77                \n",
       "5 Jamal Adams   25463                  3934.91                \n",
       "6 Holton Ahlers 25340                  3919.28                \n",
       "7 MJ Anderson   25270                  3799.60                \n",
       "8 Lance Boykin  24931                  3855.16                "
      ]
     },
     "metadata": {},
     "output_type": "display_data"
    }
   ],
   "source": [
    "## Which players covered the most total distance and sprint distance during sessions? This could identify players with the most endurance and speed.\n",
    "data  %>% \n",
    "  group_by(Name) %>% \n",
    "  summarize(\n",
    "      total.distance.covered = sum(Total.Distance),\n",
    "      sprint.distance.covered = sum(Sprint.Distance))  %>% \n",
    "  arrange(by_group = desc(total.distance.covered),desc(sprint.distance.covered))"
   ]
  },
  {
   "cell_type": "code",
   "execution_count": 39,
   "id": "1fa689a8",
   "metadata": {},
   "outputs": [
    {
     "data": {
      "text/html": [
       "<table class=\"dataframe\">\n",
       "<caption>A tibble: 4 × 2</caption>\n",
       "<thead>\n",
       "\t<tr><th scope=col>Session</th><th scope=col>Sum.of.max.speeds</th></tr>\n",
       "\t<tr><th scope=col>&lt;chr&gt;</th><th scope=col>&lt;dbl&gt;</th></tr>\n",
       "</thead>\n",
       "<tbody>\n",
       "\t<tr><td>Tempo              </td><td>844.99</td></tr>\n",
       "\t<tr><td>Acceleration       </td><td>812.12</td></tr>\n",
       "\t<tr><td>Max Velocity       </td><td>787.35</td></tr>\n",
       "\t<tr><td>Change of Direction</td><td>773.67</td></tr>\n",
       "</tbody>\n",
       "</table>\n"
      ],
      "text/latex": [
       "A tibble: 4 × 2\n",
       "\\begin{tabular}{ll}\n",
       " Session & Sum.of.max.speeds\\\\\n",
       " <chr> & <dbl>\\\\\n",
       "\\hline\n",
       "\t Tempo               & 844.99\\\\\n",
       "\t Acceleration        & 812.12\\\\\n",
       "\t Max Velocity        & 787.35\\\\\n",
       "\t Change of Direction & 773.67\\\\\n",
       "\\end{tabular}\n"
      ],
      "text/markdown": [
       "\n",
       "A tibble: 4 × 2\n",
       "\n",
       "| Session &lt;chr&gt; | Sum.of.max.speeds &lt;dbl&gt; |\n",
       "|---|---|\n",
       "| Tempo               | 844.99 |\n",
       "| Acceleration        | 812.12 |\n",
       "| Max Velocity        | 787.35 |\n",
       "| Change of Direction | 773.67 |\n",
       "\n"
      ],
      "text/plain": [
       "  Session             Sum.of.max.speeds\n",
       "1 Tempo               844.99           \n",
       "2 Acceleration        812.12           \n",
       "3 Max Velocity        787.35           \n",
       "4 Change of Direction 773.67           "
      ]
     },
     "metadata": {},
     "output_type": "display_data"
    },
    {
     "data": {
      "text/html": [
       "<table class=\"dataframe\">\n",
       "<caption>A tibble: 4 × 2</caption>\n",
       "<thead>\n",
       "\t<tr><th scope=col>Session</th><th scope=col>Sum.of.sprint.distances</th></tr>\n",
       "\t<tr><th scope=col>&lt;chr&gt;</th><th scope=col>&lt;dbl&gt;</th></tr>\n",
       "</thead>\n",
       "<tbody>\n",
       "\t<tr><td>Tempo              </td><td>13002.72</td></tr>\n",
       "\t<tr><td>Max Velocity       </td><td> 8830.80</td></tr>\n",
       "\t<tr><td>Acceleration       </td><td> 6018.87</td></tr>\n",
       "\t<tr><td>Change of Direction</td><td> 3757.39</td></tr>\n",
       "</tbody>\n",
       "</table>\n"
      ],
      "text/latex": [
       "A tibble: 4 × 2\n",
       "\\begin{tabular}{ll}\n",
       " Session & Sum.of.sprint.distances\\\\\n",
       " <chr> & <dbl>\\\\\n",
       "\\hline\n",
       "\t Tempo               & 13002.72\\\\\n",
       "\t Max Velocity        &  8830.80\\\\\n",
       "\t Acceleration        &  6018.87\\\\\n",
       "\t Change of Direction &  3757.39\\\\\n",
       "\\end{tabular}\n"
      ],
      "text/markdown": [
       "\n",
       "A tibble: 4 × 2\n",
       "\n",
       "| Session &lt;chr&gt; | Sum.of.sprint.distances &lt;dbl&gt; |\n",
       "|---|---|\n",
       "| Tempo               | 13002.72 |\n",
       "| Max Velocity        |  8830.80 |\n",
       "| Acceleration        |  6018.87 |\n",
       "| Change of Direction |  3757.39 |\n",
       "\n"
      ],
      "text/plain": [
       "  Session             Sum.of.sprint.distances\n",
       "1 Tempo               13002.72               \n",
       "2 Max Velocity         8830.80               \n",
       "3 Acceleration         6018.87               \n",
       "4 Change of Direction  3757.39               "
      ]
     },
     "metadata": {},
     "output_type": "display_data"
    }
   ],
   "source": [
    "## Which types of sessions (tempo, change of direction, etc.) tended to have the highest sprint speeds and distances?\n",
    "## This could identify optimal training methods.\n",
    "data  %>% \n",
    "  group_by(Session)  %>%\n",
    "  summarize(Sum.of.max.speeds = sum(Top.Sprint.Speed))  %>% \n",
    "  arrange(desc(Sum.of.max.speeds)) \n",
    "\n",
    "data  %>% \n",
    "  group_by(Session)  %>%\n",
    "  summarize(Sum.of.sprint.distances = sum(Sprint.Distance))  %>% \n",
    "  arrange(desc(Sum.of.sprint.distances))\n"
   ]
  },
  {
   "cell_type": "code",
   "execution_count": 45,
   "id": "6af24f2b",
   "metadata": {},
   "outputs": [
    {
     "data": {
      "text/plain": [
       "NULL"
      ]
     },
     "metadata": {},
     "output_type": "display_data"
    }
   ],
   "source": [
    "data$Top_Sprint_Speed"
   ]
  },
  {
   "cell_type": "code",
   "execution_count": 50,
   "id": "8ba8ac28",
   "metadata": {},
   "outputs": [
    {
     "data": {
      "text/html": [
       "-0.102953415031634"
      ],
      "text/latex": [
       "-0.102953415031634"
      ],
      "text/markdown": [
       "-0.102953415031634"
      ],
      "text/plain": [
       "[1] -0.1029534"
      ]
     },
     "metadata": {},
     "output_type": "display_data"
    },
    {
     "data": {
      "text/html": [
       "0.0895815740530083"
      ],
      "text/latex": [
       "0.0895815740530083"
      ],
      "text/markdown": [
       "0.0895815740530083"
      ],
      "text/plain": [
       "[1] 0.08958157"
      ]
     },
     "metadata": {},
     "output_type": "display_data"
    },
    {
     "name": "stderr",
     "output_type": "stream",
     "text": [
      "\u001b[1m\u001b[22m`geom_smooth()` using formula = 'y ~ x'\n",
      "\u001b[1m\u001b[22m`geom_smooth()` using formula = 'y ~ x'\n"
     ]
    },
    {
     "data": {
      "image/png": "[encoded data removed]",
      "text/plain": [
       "plot without title"
      ]
     },
     "metadata": {
      "image/png": {
       "height": 420,
       "width": 420
      }
     },
     "output_type": "display_data"
    },
    {
     "data": {
      "image/png": "[encoded data removed]",
      "text/plain": [
       "plot without title"
      ]
     },
     "metadata": {
      "image/png": {
       "height": 420,
       "width": 420
      }
     },
     "output_type": "display_data"
    }
   ],
   "source": [
    "## How did acceleration and deceleration metrics correlate to sprint speed?\n",
    "## This could show how starts/stops impact overall speed.\n",
    "cor(data$High.Int..Accel.Count, data$Top.Sprint.Speed)\n",
    "cor(data$High.Intensity.Decel.Counts, data$Top.Sprint.Speed) \n",
    "\n",
    "library(ggplot2)\n",
    "\n",
    "ggplot(data, aes(High.Int..Accel.Count, Top.Sprint.Speed)) + \n",
    "  geom_point() +\n",
    "  geom_smooth(method = \"lm\")\n",
    "\n",
    "ggplot(data, aes(High.Intensity.Decel.Counts, Top.Sprint.Speed)) +\n",
    "  geom_point() +\n",
    "  geom_smooth(method = \"lm\")"
   ]
  },
  {
   "cell_type": "code",
   "execution_count": 42,
   "id": "c58e2856",
   "metadata": {},
   "outputs": [
    {
     "data": {
      "text/plain": [
       "NULL"
      ]
     },
     "metadata": {},
     "output_type": "display_data"
    }
   ],
   "source": [
    "data$High.Int..Accel.Count\n",
    "data$High.Intensity.Decel.Counts"
   ]
  },
  {
   "cell_type": "code",
   "execution_count": 56,
   "id": "03ea6f86",
   "metadata": {},
   "outputs": [
    {
     "name": "stderr",
     "output_type": "stream",
     "text": [
      "\u001b[1m\u001b[22m`summarise()` has grouped output by 'Name'. You can override using the\n",
      "`.groups` argument.\n"
     ]
    },
    {
     "data": {
      "text/html": [
       "<table class=\"dataframe\">\n",
       "<caption>A tibble: 8 × 4</caption>\n",
       "<thead>\n",
       "\t<tr><th scope=col>Name</th><th scope=col>speed_diff</th><th scope=col>dist_diff</th><th scope=col>accel_diff</th></tr>\n",
       "\t<tr><th scope=col>&lt;chr&gt;</th><th scope=col>&lt;dbl&gt;</th><th scope=col>&lt;int&gt;</th><th scope=col>&lt;dbl&gt;</th></tr>\n",
       "</thead>\n",
       "<tbody>\n",
       "\t<tr><td>Holton Ahlers</td><td>-2.37</td><td>  14</td><td>-5.64</td></tr>\n",
       "\t<tr><td>Jake Bobo    </td><td> 1.22</td><td> 160</td><td>-0.92</td></tr>\n",
       "\t<tr><td>Jamal Adams  </td><td> 2.95</td><td>-241</td><td>-1.68</td></tr>\n",
       "\t<tr><td>Joey Blount  </td><td> 6.88</td><td>-218</td><td>-8.58</td></tr>\n",
       "\t<tr><td>Lance Boykin </td><td>-1.16</td><td> 237</td><td>-5.88</td></tr>\n",
       "\t<tr><td>MJ Anderson  </td><td>-3.62</td><td> 418</td><td>-7.78</td></tr>\n",
       "\t<tr><td>Myles Adams  </td><td> 2.11</td><td>-231</td><td>-2.42</td></tr>\n",
       "\t<tr><td>Nick Bellore </td><td>-3.61</td><td>-276</td><td>-5.08</td></tr>\n",
       "</tbody>\n",
       "</table>\n"
      ],
      "text/latex": [
       "A tibble: 8 × 4\n",
       "\\begin{tabular}{llll}\n",
       " Name & speed\\_diff & dist\\_diff & accel\\_diff\\\\\n",
       " <chr> & <dbl> & <int> & <dbl>\\\\\n",
       "\\hline\n",
       "\t Holton Ahlers & -2.37 &   14 & -5.64\\\\\n",
       "\t Jake Bobo     &  1.22 &  160 & -0.92\\\\\n",
       "\t Jamal Adams   &  2.95 & -241 & -1.68\\\\\n",
       "\t Joey Blount   &  6.88 & -218 & -8.58\\\\\n",
       "\t Lance Boykin  & -1.16 &  237 & -5.88\\\\\n",
       "\t MJ Anderson   & -3.62 &  418 & -7.78\\\\\n",
       "\t Myles Adams   &  2.11 & -231 & -2.42\\\\\n",
       "\t Nick Bellore  & -3.61 & -276 & -5.08\\\\\n",
       "\\end{tabular}\n"
      ],
      "text/markdown": [
       "\n",
       "A tibble: 8 × 4\n",
       "\n",
       "| Name &lt;chr&gt; | speed_diff &lt;dbl&gt; | dist_diff &lt;int&gt; | accel_diff &lt;dbl&gt; |\n",
       "|---|---|---|---|\n",
       "| Holton Ahlers | -2.37 |   14 | -5.64 |\n",
       "| Jake Bobo     |  1.22 |  160 | -0.92 |\n",
       "| Jamal Adams   |  2.95 | -241 | -1.68 |\n",
       "| Joey Blount   |  6.88 | -218 | -8.58 |\n",
       "| Lance Boykin  | -1.16 |  237 | -5.88 |\n",
       "| MJ Anderson   | -3.62 |  418 | -7.78 |\n",
       "| Myles Adams   |  2.11 | -231 | -2.42 |\n",
       "| Nick Bellore  | -3.61 | -276 | -5.08 |\n",
       "\n"
      ],
      "text/plain": [
       "  Name          speed_diff dist_diff accel_diff\n",
       "1 Holton Ahlers -2.37        14      -5.64     \n",
       "2 Jake Bobo      1.22       160      -0.92     \n",
       "3 Jamal Adams    2.95      -241      -1.68     \n",
       "4 Joey Blount    6.88      -218      -8.58     \n",
       "5 Lance Boykin  -1.16       237      -5.88     \n",
       "6 MJ Anderson   -3.62       418      -7.78     \n",
       "7 Myles Adams    2.11      -231      -2.42     \n",
       "8 Nick Bellore  -3.61      -276      -5.08     "
      ]
     },
     "metadata": {},
     "output_type": "display_data"
    }
   ],
   "source": [
    "## Did any players show major increases or decreases in speed, distance, or acceleration over time? \n",
    "## This could identify improving players.\n",
    "\n",
    "players_trends <- data %>% \n",
    "  arrange(Date)  %>% \n",
    "  group_by(Name, Date) %>%\n",
    "  summarise(\n",
    "    top_speed = mean(Top.Sprint.Speed),\n",
    "    total_dist = sum(Total.Distance),\n",
    "    accel = sum(High.Int..Accel.Count)\n",
    "  )\n",
    "players_trends  %>% \n",
    "  group_by(Name)  %>% \n",
    "  summarise(\n",
    "    speed_diff = last(top_speed) - first(top_speed),\n",
    "    dist_diff = last(total_dist) - first(total_dist),\n",
    "    accel_diff = last(accel) - first(accel)\n",
    "  )"
   ]
  },
  {
   "cell_type": "code",
   "execution_count": 80,
   "id": "74fd6f12",
   "metadata": {},
   "outputs": [
    {
     "data": {
      "image/png": "[encoded data removed]",
      "text/plain": [
       "plot without title"
      ]
     },
     "metadata": {
      "image/png": {
       "height": 420,
       "width": 420
      }
     },
     "output_type": "display_data"
    }
   ],
   "source": [
    "##  How did load and intensity zone distances compare between players?\n",
    "## This could identify durability and conditioning differences.\n",
    "\n",
    "player_summary <- data %>%\n",
    "  group_by(Name) %>%\n",
    "  summarize(\n",
    "    mean_load = mean(GPS.Load),\n",
    "    mean_low_dist = mean(Low.Intensity.Distance),\n",
    "    mean_mod_dist = mean(Moderate.Intensity.Distance), \n",
    "    mean_high_dist = mean(High.Intensity.Distance),\n",
    "    mean_sprint_dist = mean(Sprint.Distance)\n",
    "  )\n",
    "library(reshape2)\n",
    "data_melt <- melt(player_summary, id.vars = \"Name\", variable.name = \"metric\")\n",
    "ggplot(data_melt, aes(x = Name, y =  value, fill = metric)) +\n",
    "  geom_bar(stat = 'identity', position = 'dodge') +\n",
    "  labs(x = 'Players', y = 'Metrics', fill = 'Metrics') +\n",
    "  theme(legend.position = 'bottom')\n",
    "  "
   ]
  },
  {
   "cell_type": "code",
   "execution_count": 81,
   "id": "4a894aba",
   "metadata": {},
   "outputs": [
    {
     "data": {
      "text/plain": [
       "   Min. 1st Qu.  Median    Mean 3rd Qu.    Max. \n",
       "  145.3   215.2   285.4   272.2   321.1   397.2 "
      ]
     },
     "metadata": {},
     "output_type": "display_data"
    }
   ],
   "source": [
    "summary(data$Low.Intensity.Distance)"
   ]
  },
  {
   "cell_type": "code",
   "execution_count": 82,
   "id": "f305aa35",
   "metadata": {},
   "outputs": [
    {
     "name": "stderr",
     "output_type": "stream",
     "text": [
      "Warning message:\n",
      "\"glm.fit: fitted probabilities numerically 0 or 1 occurred\"\n"
     ]
    },
    {
     "data": {
      "text/plain": [
       "\n",
       "Call:\n",
       "glm(formula = injured ~ High.Int..Accel.Count, family = \"binomial\", \n",
       "    data = data)\n",
       "\n",
       "Coefficients:\n",
       "                      Estimate Std. Error z value Pr(>|z|)    \n",
       "(Intercept)             6.1160     1.4761   4.143 3.42e-05 ***\n",
       "High.Int..Accel.Count  -1.3451     0.3341  -4.026 5.67e-05 ***\n",
       "---\n",
       "Signif. codes:  0 '***' 0.001 '**' 0.01 '*' 0.05 '.' 0.1 ' ' 1\n",
       "\n",
       "(Dispersion parameter for binomial family taken to be 1)\n",
       "\n",
       "    Null deviance: 184.701  on 183  degrees of freedom\n",
       "Residual deviance:  62.185  on 182  degrees of freedom\n",
       "AIC: 66.185\n",
       "\n",
       "Number of Fisher Scoring iterations: 10\n"
      ]
     },
     "metadata": {},
     "output_type": "display_data"
    },
    {
     "data": {
      "text/plain": [
       "\n",
       "Call:\n",
       "glm(formula = injured ~ High.Intensity.Distance, family = \"binomial\", \n",
       "    data = data)\n",
       "\n",
       "Coefficients:\n",
       "                         Estimate Std. Error z value Pr(>|z|)    \n",
       "(Intercept)             -7.518956   1.233366  -6.096 1.09e-09 ***\n",
       "High.Intensity.Distance  0.018161   0.003424   5.304 1.13e-07 ***\n",
       "---\n",
       "Signif. codes:  0 '***' 0.001 '**' 0.01 '*' 0.05 '.' 0.1 ' ' 1\n",
       "\n",
       "(Dispersion parameter for binomial family taken to be 1)\n",
       "\n",
       "    Null deviance: 184.7  on 183  degrees of freedom\n",
       "Residual deviance: 147.5  on 182  degrees of freedom\n",
       "AIC: 151.5\n",
       "\n",
       "Number of Fisher Scoring iterations: 5\n"
      ]
     },
     "metadata": {},
     "output_type": "display_data"
    }
   ],
   "source": [
    "## Were there relationships between intensity metrics (high speed distance, accelerations etc.) and injury risk?\n",
    "## This could help optimize training load\n",
    "# We assumed having a low intensity distance less than 200 meters indicator of injury\n",
    "\n",
    "data <- data %>%\n",
    "  mutate(injured = ifelse(Low.Intensity.Distance < 200, 1, 0))\n",
    "library(tidyverse)\n",
    "\n",
    "accel_model <- glm(injured ~ High.Int..Accel.Count, data = data, \n",
    "                   family = \"binomial\")\n",
    "summary(accel_model)\n",
    "\n",
    "high_speed_model <- glm(injured ~ High.Intensity.Distance, data = data,\n",
    "                        family = \"binomial\") \n",
    "summary(high_speed_model)"
   ]
  },
  {
   "cell_type": "code",
   "execution_count": 85,
   "id": "f8c8f5fd",
   "metadata": {},
   "outputs": [
    {
     "data": {
      "image/png": "[encoded data removed]",
      "text/plain": [
       "plot without title"
      ]
     },
     "metadata": {
      "image/png": {
       "height": 420,
       "width": 420
      }
     },
     "output_type": "display_data"
    },
    {
     "data": {
      "image/png": "[encoded data removed]",
      "text/plain": [
       "plot without title"
      ]
     },
     "metadata": {
      "image/png": {
       "height": 420,
       "width": 420
      }
     },
     "output_type": "display_data"
    }
   ],
   "source": [
    "# Drawing the relationship\n",
    "library(ggpubr) \n",
    "\n",
    "ggscatter(data, x = \"High.Int..Accel.Count\", y = \"injured\")\n",
    "ggscatter(data, x = \"High.Intensity.Distance\", y = \"injured\")"
   ]
  },
  {
   "cell_type": "code",
   "execution_count": 19,
   "id": "bc3768e2",
   "metadata": {},
   "outputs": [
    {
     "data": {
      "text/plain": [
       "             Df Sum Sq Mean Sq F value Pr(>F)\n",
       "Season        2     15   7.493   0.698  0.499\n",
       "Residuals   181   1943  10.735               "
      ]
     },
     "metadata": {},
     "output_type": "display_data"
    },
    {
     "data": {
      "text/plain": [
       "             Df Sum Sq Mean Sq F value Pr(>F)\n",
       "Season        2  12750    6375    1.37  0.257\n",
       "Residuals   181 842217    4653               "
      ]
     },
     "metadata": {},
     "output_type": "display_data"
    },
    {
     "data": {
      "text/plain": [
       "  Tukey multiple comparisons of means\n",
       "    95% family-wise confidence level\n",
       "\n",
       "Fit: aov(formula = Top.Sprint.Speed ~ Season, data = data)\n",
       "\n",
       "$Season\n",
       "                 diff       lwr       upr     p adj\n",
       "Late-Early -0.2535714 -1.716821 1.2096783 0.9117578\n",
       "Mid-Early  -0.6752778 -2.054843 0.7042873 0.4806274\n",
       "Mid-Late   -0.4217063 -1.801271 0.9578587 0.7505708\n"
      ]
     },
     "metadata": {},
     "output_type": "display_data"
    },
    {
     "data": {
      "text/plain": [
       "  Tukey multiple comparisons of means\n",
       "    95% family-wise confidence level\n",
       "\n",
       "Fit: aov(formula = High.Intensity.Distance ~ Season, data = data)\n",
       "\n",
       "$Season\n",
       "                 diff       lwr       upr     p adj\n",
       "Late-Early   4.489286 -25.97465 34.953226 0.9353638\n",
       "Mid-Early  -14.429821 -43.15150 14.291857 0.4622916\n",
       "Mid-Late   -18.919107 -47.64079  9.802571 0.2672330\n"
      ]
     },
     "metadata": {},
     "output_type": "display_data"
    },
    {
     "data": {
      "image/png": "[encoded data removed]",
      "text/plain": [
       "plot without title"
      ]
     },
     "metadata": {
      "image/png": {
       "height": 420,
       "width": 420
      }
     },
     "output_type": "display_data"
    },
    {
     "data": {
      "image/png": "[encoded data removed]",
      "text/plain": [
       "plot without title"
      ]
     },
     "metadata": {
      "image/png": {
       "height": 420,
       "width": 420
      }
     },
     "output_type": "display_data"
    }
   ],
   "source": [
    "## Were there differences in performance between early, mid and late season? \n",
    "## Comparing metrics for July, August, and September sessions.\n",
    "\n",
    "# Create season factor\n",
    "data$Date <- as.Date(data$Date, \"%Y-%m-%d\")\n",
    "data$Season <- ifelse(data$Date < \"2023-07-15\", \"Early\", \n",
    "                    ifelse(data$Date < \"2023-08-01\", \"Mid\", \"Late\"))\n",
    "\n",
    "# ANOVA to compare metrics by season \n",
    "tss_aov <- aov(Top.Sprint.Speed ~ Season, data = data)\n",
    "summary(tss_aov)\n",
    "\n",
    "hid_aov <- aov(High.Intensity.Distance ~ Season, data = data)\n",
    "summary(hid_aov)\n",
    "\n",
    "# Tukey's HSD test for pairwise comparisons\n",
    "TukeyHSD(tss_aov)\n",
    "TukeyHSD(hid_aov)\n",
    "\n",
    "# Boxplots to visualize\n",
    "ggplot(data, aes(x = Season, y = Top.Sprint.Speed, fill = Season)) +\n",
    "  geom_boxplot() + \n",
    "  labs(title = \"Sprint Speed by Season\") \n",
    "\n",
    "ggplot(data, aes(x = Season, y = High.Intensity.Distance, fill = Season)) +\n",
    "  geom_boxplot() +\n",
    "  labs(title = \"Intensity Distance by Season\") "
   ]
  },
  {
   "cell_type": "code",
   "execution_count": 40,
   "id": "5c0f7fd0",
   "metadata": {},
   "outputs": [
    {
     "name": "stderr",
     "output_type": "stream",
     "text": [
      "\u001b[1m\u001b[22m`geom_smooth()` using method = 'loess' and formula = 'y ~ x'\n"
     ]
    },
    {
     "data": {
      "image/png": "[encoded data removed]",
      "text/plain": [
       "plot without title"
      ]
     },
     "metadata": {
      "image/png": {
       "height": 420,
       "width": 420
      }
     },
     "output_type": "display_data"
    }
   ],
   "source": [
    "# Plot top sprint speed for each player with the fitted line over time\n",
    "ggplot(data, aes(x = Date, y = Top.Sprint.Speed, color = Name)) +\n",
    "  geom_point() +\n",
    "  geom_smooth(se = F) "
   ]
  },
  {
   "cell_type": "code",
   "execution_count": null,
   "id": "9ef83ec1",
   "metadata": {},
   "outputs": [],
   "source": []
  }
 ],
 "metadata": {
  "kernelspec": {
   "display_name": "R",
   "language": "R",
   "name": "ir"
  },
  "language_info": {
   "codemirror_mode": "r",
   "file_extension": ".r",
   "mimetype": "text/x-r-source",
   "name": "R",
   "pygments_lexer": "r",
   "version": "4.3.0"
  },
  "vp": {
   "vp_config_version": "1.0.0",
   "vp_menu_width": 273,
   "vp_note_display": false,
   "vp_note_width": 0,
   "vp_position": {
    "width": 278
   },
   "vp_section_display": false,
   "vp_signature": "VisualPython"
  }
 },
 "nbformat": 4,
 "nbformat_minor": 5
}
