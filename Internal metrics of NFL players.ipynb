{
 "cells": [
  {
   "cell_type": "code",
   "execution_count": 3,
   "id": "fa55c344",
   "metadata": {},
   "outputs": [
    {
     "data": {
      "text/html": [
       "<table class=\"dataframe\">\n",
       "<caption>A data.frame: 6 × 9</caption>\n",
       "<thead>\n",
       "\t<tr><th></th><th scope=col>Date</th><th scope=col>Name</th><th scope=col>RPE</th><th scope=col>Sleep.Quality</th><th scope=col>Sleep.Duration</th><th scope=col>Fatigue</th><th scope=col>Soreness</th><th scope=col>Stress</th><th scope=col>Readiness.Score</th></tr>\n",
       "\t<tr><th></th><th scope=col>&lt;chr&gt;</th><th scope=col>&lt;chr&gt;</th><th scope=col>&lt;dbl&gt;</th><th scope=col>&lt;dbl&gt;</th><th scope=col>&lt;dbl&gt;</th><th scope=col>&lt;dbl&gt;</th><th scope=col>&lt;dbl&gt;</th><th scope=col>&lt;int&gt;</th><th scope=col>&lt;dbl&gt;</th></tr>\n",
       "</thead>\n",
       "<tbody>\n",
       "\t<tr><th scope=row>1</th><td>2023-07-25</td><td>Nick Bellore </td><td>8.0</td><td>5</td><td>4.5</td><td>8.0</td><td>6.5</td><td>8</td><td>88.0</td></tr>\n",
       "\t<tr><th scope=row>2</th><td>2023-07-10</td><td>Jamal Adams  </td><td>7.0</td><td>5</td><td>7.0</td><td>6.5</td><td>8.0</td><td>8</td><td>86.0</td></tr>\n",
       "\t<tr><th scope=row>3</th><td>2023-07-25</td><td>Holton Ahlers</td><td>7.0</td><td>5</td><td>5.0</td><td>6.0</td><td>5.0</td><td>7</td><td>84.0</td></tr>\n",
       "\t<tr><th scope=row>4</th><td>2023-07-13</td><td>Joey Blount  </td><td>5.5</td><td>5</td><td>8.0</td><td>7.5</td><td>6.0</td><td>6</td><td>79.5</td></tr>\n",
       "\t<tr><th scope=row>5</th><td>2023-07-13</td><td>Lance Boykin </td><td>6.5</td><td>5</td><td>4.5</td><td>6.0</td><td>7.0</td><td>6</td><td>85.0</td></tr>\n",
       "\t<tr><th scope=row>6</th><td>2023-07-10</td><td>Lance Boykin </td><td>8.5</td><td>5</td><td>8.0</td><td>4.5</td><td>8.0</td><td>6</td><td>84.5</td></tr>\n",
       "</tbody>\n",
       "</table>\n"
      ],
      "text/latex": [
       "A data.frame: 6 × 9\n",
       "\\begin{tabular}{r|lllllllll}\n",
       "  & Date & Name & RPE & Sleep.Quality & Sleep.Duration & Fatigue & Soreness & Stress & Readiness.Score\\\\\n",
       "  & <chr> & <chr> & <dbl> & <dbl> & <dbl> & <dbl> & <dbl> & <int> & <dbl>\\\\\n",
       "\\hline\n",
       "\t1 & 2023-07-25 & Nick Bellore  & 8.0 & 5 & 4.5 & 8.0 & 6.5 & 8 & 88.0\\\\\n",
       "\t2 & 2023-07-10 & Jamal Adams   & 7.0 & 5 & 7.0 & 6.5 & 8.0 & 8 & 86.0\\\\\n",
       "\t3 & 2023-07-25 & Holton Ahlers & 7.0 & 5 & 5.0 & 6.0 & 5.0 & 7 & 84.0\\\\\n",
       "\t4 & 2023-07-13 & Joey Blount   & 5.5 & 5 & 8.0 & 7.5 & 6.0 & 6 & 79.5\\\\\n",
       "\t5 & 2023-07-13 & Lance Boykin  & 6.5 & 5 & 4.5 & 6.0 & 7.0 & 6 & 85.0\\\\\n",
       "\t6 & 2023-07-10 & Lance Boykin  & 8.5 & 5 & 8.0 & 4.5 & 8.0 & 6 & 84.5\\\\\n",
       "\\end{tabular}\n"
      ],
      "text/markdown": [
       "\n",
       "A data.frame: 6 × 9\n",
       "\n",
       "| <!--/--> | Date &lt;chr&gt; | Name &lt;chr&gt; | RPE &lt;dbl&gt; | Sleep.Quality &lt;dbl&gt; | Sleep.Duration &lt;dbl&gt; | Fatigue &lt;dbl&gt; | Soreness &lt;dbl&gt; | Stress &lt;int&gt; | Readiness.Score &lt;dbl&gt; |\n",
       "|---|---|---|---|---|---|---|---|---|---|\n",
       "| 1 | 2023-07-25 | Nick Bellore  | 8.0 | 5 | 4.5 | 8.0 | 6.5 | 8 | 88.0 |\n",
       "| 2 | 2023-07-10 | Jamal Adams   | 7.0 | 5 | 7.0 | 6.5 | 8.0 | 8 | 86.0 |\n",
       "| 3 | 2023-07-25 | Holton Ahlers | 7.0 | 5 | 5.0 | 6.0 | 5.0 | 7 | 84.0 |\n",
       "| 4 | 2023-07-13 | Joey Blount   | 5.5 | 5 | 8.0 | 7.5 | 6.0 | 6 | 79.5 |\n",
       "| 5 | 2023-07-13 | Lance Boykin  | 6.5 | 5 | 4.5 | 6.0 | 7.0 | 6 | 85.0 |\n",
       "| 6 | 2023-07-10 | Lance Boykin  | 8.5 | 5 | 8.0 | 4.5 | 8.0 | 6 | 84.5 |\n",
       "\n"
      ],
      "text/plain": [
       "  Date       Name          RPE Sleep.Quality Sleep.Duration Fatigue Soreness\n",
       "1 2023-07-25 Nick Bellore  8.0 5             4.5            8.0     6.5     \n",
       "2 2023-07-10 Jamal Adams   7.0 5             7.0            6.5     8.0     \n",
       "3 2023-07-25 Holton Ahlers 7.0 5             5.0            6.0     5.0     \n",
       "4 2023-07-13 Joey Blount   5.5 5             8.0            7.5     6.0     \n",
       "5 2023-07-13 Lance Boykin  6.5 5             4.5            6.0     7.0     \n",
       "6 2023-07-10 Lance Boykin  8.5 5             8.0            4.5     8.0     \n",
       "  Stress Readiness.Score\n",
       "1 8      88.0           \n",
       "2 8      86.0           \n",
       "3 7      84.0           \n",
       "4 6      79.5           \n",
       "5 6      85.0           \n",
       "6 6      84.5           "
      ]
     },
     "metadata": {},
     "output_type": "display_data"
    }
   ],
   "source": [
    "## Import data\n",
    "\n",
    "data <- read.csv('NFL_Internal_data.csv')\n",
    "head(data)"
   ]
  },
  {
   "cell_type": "code",
   "execution_count": 70,
   "id": "f69accc5",
   "metadata": {},
   "outputs": [
    {
     "name": "stdout",
     "output_type": "stream",
     "text": [
      "'data.frame':\t184 obs. of  9 variables:\n",
      " $ Date           : Date, format: \"2023-07-25\" \"2023-07-10\" ...\n",
      " $ Name           : chr  \"Nick Bellore\" \"Jamal Adams\" \"Holton Ahlers\" \"Joey Blount\" ...\n",
      " $ RPE            : num  8 7 7 5.5 6.5 8.5 6.5 8 8.5 5 ...\n",
      " $ Sleep.Quality  : num  5 5 5 5 5 5 5 5 5 5 ...\n",
      " $ Sleep.Duration : num  4.5 7 5 8 4.5 8 4.5 5.5 6 4.5 ...\n",
      " $ Fatigue        : num  8 6.5 6 7.5 6 4.5 7 5.5 8 4.5 ...\n",
      " $ Soreness       : num  6.5 8 5 6 7 8 4.5 8 7 7 ...\n",
      " $ Stress         : int  8 8 7 6 6 6 5 5 4 4 ...\n",
      " $ Readiness.Score: num  88 86 84 79.5 85 84.5 81.5 85.5 83.5 81.5 ...\n"
     ]
    },
    {
     "data": {
      "text/plain": [
       "      Date                Name                RPE        Sleep.Quality  \n",
       " Min.   :2023-07-05   Length:184         Min.   :5.000   Min.   :5.000  \n",
       " 1st Qu.:2023-07-13   Class :character   1st Qu.:6.000   1st Qu.:6.000  \n",
       " Median :2023-07-24   Mode  :character   Median :6.500   Median :7.000  \n",
       " Mean   :2023-07-23                      Mean   :6.386   Mean   :6.894  \n",
       " 3rd Qu.:2023-08-03                      3rd Qu.:7.000   3rd Qu.:8.000  \n",
       " Max.   :2023-08-11                      Max.   :9.000   Max.   :9.000  \n",
       " Sleep.Duration     Fatigue         Soreness         Stress     \n",
       " Min.   :4.500   Min.   :3.500   Min.   :4.000   Min.   :4.000  \n",
       " 1st Qu.:6.000   1st Qu.:4.500   1st Qu.:5.000   1st Qu.:5.000  \n",
       " Median :7.000   Median :6.000   Median :6.250   Median :6.000  \n",
       " Mean   :6.891   Mean   :5.938   Mean   :6.152   Mean   :5.875  \n",
       " 3rd Qu.:8.000   3rd Qu.:7.500   3rd Qu.:7.500   3rd Qu.:7.000  \n",
       " Max.   :9.000   Max.   :8.000   Max.   :8.500   Max.   :8.000  \n",
       " Readiness.Score\n",
       " Min.   :72.00  \n",
       " 1st Qu.:77.50  \n",
       " Median :79.50  \n",
       " Mean   :79.63  \n",
       " 3rd Qu.:81.50  \n",
       " Max.   :88.00  "
      ]
     },
     "metadata": {},
     "output_type": "display_data"
    }
   ],
   "source": [
    "## Inspect structure and summary statistics of the data\n",
    "\n",
    "str(data)\n",
    "summary(data)"
   ]
  },
  {
   "cell_type": "code",
   "execution_count": 6,
   "id": "bb3aeb61",
   "metadata": {},
   "outputs": [
    {
     "data": {
      "text/html": [
       "<table class=\"dataframe\">\n",
       "<caption>A tibble: 8 × 2</caption>\n",
       "<thead>\n",
       "\t<tr><th scope=col>Name</th><th scope=col>mean_of_readiness_score</th></tr>\n",
       "\t<tr><th scope=col>&lt;chr&gt;</th><th scope=col>&lt;dbl&gt;</th></tr>\n",
       "</thead>\n",
       "<tbody>\n",
       "\t<tr><td>Jake Bobo    </td><td>80.73913</td></tr>\n",
       "\t<tr><td>Jamal Adams  </td><td>80.15217</td></tr>\n",
       "\t<tr><td>Lance Boykin </td><td>79.84783</td></tr>\n",
       "\t<tr><td>Holton Ahlers</td><td>79.67391</td></tr>\n",
       "\t<tr><td>Joey Blount  </td><td>79.41304</td></tr>\n",
       "\t<tr><td>Myles Adams  </td><td>79.39130</td></tr>\n",
       "\t<tr><td>MJ Anderson  </td><td>78.97826</td></tr>\n",
       "\t<tr><td>Nick Bellore </td><td>78.82609</td></tr>\n",
       "</tbody>\n",
       "</table>\n"
      ],
      "text/latex": [
       "A tibble: 8 × 2\n",
       "\\begin{tabular}{ll}\n",
       " Name & mean\\_of\\_readiness\\_score\\\\\n",
       " <chr> & <dbl>\\\\\n",
       "\\hline\n",
       "\t Jake Bobo     & 80.73913\\\\\n",
       "\t Jamal Adams   & 80.15217\\\\\n",
       "\t Lance Boykin  & 79.84783\\\\\n",
       "\t Holton Ahlers & 79.67391\\\\\n",
       "\t Joey Blount   & 79.41304\\\\\n",
       "\t Myles Adams   & 79.39130\\\\\n",
       "\t MJ Anderson   & 78.97826\\\\\n",
       "\t Nick Bellore  & 78.82609\\\\\n",
       "\\end{tabular}\n"
      ],
      "text/markdown": [
       "\n",
       "A tibble: 8 × 2\n",
       "\n",
       "| Name &lt;chr&gt; | mean_of_readiness_score &lt;dbl&gt; |\n",
       "|---|---|\n",
       "| Jake Bobo     | 80.73913 |\n",
       "| Jamal Adams   | 80.15217 |\n",
       "| Lance Boykin  | 79.84783 |\n",
       "| Holton Ahlers | 79.67391 |\n",
       "| Joey Blount   | 79.41304 |\n",
       "| Myles Adams   | 79.39130 |\n",
       "| MJ Anderson   | 78.97826 |\n",
       "| Nick Bellore  | 78.82609 |\n",
       "\n"
      ],
      "text/plain": [
       "  Name          mean_of_readiness_score\n",
       "1 Jake Bobo     80.73913               \n",
       "2 Jamal Adams   80.15217               \n",
       "3 Lance Boykin  79.84783               \n",
       "4 Holton Ahlers 79.67391               \n",
       "5 Joey Blount   79.41304               \n",
       "6 Myles Adams   79.39130               \n",
       "7 MJ Anderson   78.97826               \n",
       "8 Nick Bellore  78.82609               "
      ]
     },
     "metadata": {},
     "output_type": "display_data"
    }
   ],
   "source": [
    "## Which players had the highest average readiness scores?\n",
    "\n",
    "library(tidyverse)\n",
    "data  %>% \n",
    "  group_by(Name)  %>% \n",
    "  summarize(mean_of_readiness_score = mean(Readiness.Score))  %>% \n",
    "  arrange(desc(mean_of_readiness_score))"
   ]
  },
  {
   "cell_type": "code",
   "execution_count": 7,
   "id": "6e7fc5fb",
   "metadata": {},
   "outputs": [
    {
     "data": {
      "text/plain": [
       "\n",
       "\tPearson's product-moment correlation\n",
       "\n",
       "data:  data$Readiness.Score and data$Sleep.Duration\n",
       "t = -10.064, df = 182, p-value < 2.2e-16\n",
       "alternative hypothesis: true correlation is not equal to 0\n",
       "95 percent confidence interval:\n",
       " -0.6834861 -0.4962069\n",
       "sample estimates:\n",
       "       cor \n",
       "-0.5979463 \n"
      ]
     },
     "metadata": {},
     "output_type": "display_data"
    }
   ],
   "source": [
    "## Was there a correlation between sleep duration and readiness?\n",
    "\n",
    "cor.test(data$Readiness.Score, data$Sleep.Duration)"
   ]
  },
  {
   "cell_type": "code",
   "execution_count": 10,
   "id": "25793688",
   "metadata": {},
   "outputs": [
    {
     "name": "stderr",
     "output_type": "stream",
     "text": [
      "\u001b[1m\u001b[22m`geom_smooth()` using method = 'loess' and formula = 'y ~ x'\n"
     ]
    },
    {
     "data": {
      "image/png": "[encoded data removed]",
      "text/plain": [
       "plot without title"
      ]
     },
     "metadata": {
      "image/png": {
       "height": 420,
       "width": 420
      }
     },
     "output_type": "display_data"
    }
   ],
   "source": [
    "## Did readiness scores change over the course of the season?\n",
    "library(ggplot2)\n",
    "data$Date <- as.Date(data$Date, \"%Y-%m-%d\")\n",
    "ggplot(data, aes(x = Date, y = Readiness.Score, color = Name)) +\n",
    "  geom_point() +\n",
    "  geom_smooth(se = F)"
   ]
  },
  {
   "cell_type": "code",
   "execution_count": 11,
   "id": "2fc06807",
   "metadata": {},
   "outputs": [
    {
     "data": {
      "text/html": [
       "<table class=\"dataframe\">\n",
       "<caption>A tibble: 8 × 2</caption>\n",
       "<thead>\n",
       "\t<tr><th scope=col>Name</th><th scope=col>score_var</th></tr>\n",
       "\t<tr><th scope=col>&lt;chr&gt;</th><th scope=col>&lt;dbl&gt;</th></tr>\n",
       "</thead>\n",
       "<tbody>\n",
       "\t<tr><td>Nick Bellore </td><td>14.763834</td></tr>\n",
       "\t<tr><td>Holton Ahlers</td><td>10.582016</td></tr>\n",
       "\t<tr><td>Lance Boykin </td><td> 9.668972</td></tr>\n",
       "\t<tr><td>Jamal Adams  </td><td> 8.873518</td></tr>\n",
       "\t<tr><td>Jake Bobo    </td><td> 8.815217</td></tr>\n",
       "\t<tr><td>MJ Anderson  </td><td> 8.351779</td></tr>\n",
       "\t<tr><td>Joey Blount  </td><td> 7.401186</td></tr>\n",
       "\t<tr><td>Myles Adams  </td><td> 4.521739</td></tr>\n",
       "</tbody>\n",
       "</table>\n"
      ],
      "text/latex": [
       "A tibble: 8 × 2\n",
       "\\begin{tabular}{ll}\n",
       " Name & score\\_var\\\\\n",
       " <chr> & <dbl>\\\\\n",
       "\\hline\n",
       "\t Nick Bellore  & 14.763834\\\\\n",
       "\t Holton Ahlers & 10.582016\\\\\n",
       "\t Lance Boykin  &  9.668972\\\\\n",
       "\t Jamal Adams   &  8.873518\\\\\n",
       "\t Jake Bobo     &  8.815217\\\\\n",
       "\t MJ Anderson   &  8.351779\\\\\n",
       "\t Joey Blount   &  7.401186\\\\\n",
       "\t Myles Adams   &  4.521739\\\\\n",
       "\\end{tabular}\n"
      ],
      "text/markdown": [
       "\n",
       "A tibble: 8 × 2\n",
       "\n",
       "| Name &lt;chr&gt; | score_var &lt;dbl&gt; |\n",
       "|---|---|\n",
       "| Nick Bellore  | 14.763834 |\n",
       "| Holton Ahlers | 10.582016 |\n",
       "| Lance Boykin  |  9.668972 |\n",
       "| Jamal Adams   |  8.873518 |\n",
       "| Jake Bobo     |  8.815217 |\n",
       "| MJ Anderson   |  8.351779 |\n",
       "| Joey Blount   |  7.401186 |\n",
       "| Myles Adams   |  4.521739 |\n",
       "\n"
      ],
      "text/plain": [
       "  Name          score_var\n",
       "1 Nick Bellore  14.763834\n",
       "2 Holton Ahlers 10.582016\n",
       "3 Lance Boykin   9.668972\n",
       "4 Jamal Adams    8.873518\n",
       "5 Jake Bobo      8.815217\n",
       "6 MJ Anderson    8.351779\n",
       "7 Joey Blount    7.401186\n",
       "8 Myles Adams    4.521739"
      ]
     },
     "metadata": {},
     "output_type": "display_data"
    }
   ],
   "source": [
    "## Who had the most variation in daily readiness scores?\n",
    "## The variance in each player's scores shows who had the most fluctuation.\n",
    "\n",
    "data %>%\n",
    "  group_by(Name) %>%\n",
    "  summarize(score_var = var(Readiness.Score)) %>%\n",
    "  arrange(desc(score_var))"
   ]
  },
  {
   "cell_type": "code",
   "execution_count": 47,
   "id": "54f608e2",
   "metadata": {},
   "outputs": [
    {
     "name": "stderr",
     "output_type": "stream",
     "text": [
      "Warning message in summary.lm(m):\n",
      "\"essentially perfect fit: summary may be unreliable\"\n"
     ]
    },
    {
     "data": {
      "text/html": [
       "<table class=\"dataframe\">\n",
       "<caption>A data.frame: 8 × 1</caption>\n",
       "<thead>\n",
       "\t<tr><th></th><th scope=col>Pr(&gt;|t|)</th></tr>\n",
       "\t<tr><th></th><th scope=col>&lt;dbl&gt;</th></tr>\n",
       "</thead>\n",
       "<tbody>\n",
       "\t<tr><th scope=row>(Intercept)</th><td>0.0000000</td></tr>\n",
       "\t<tr><th scope=row>Date</th><td>0.8153284</td></tr>\n",
       "\t<tr><th scope=row>RPE</th><td>0.0000000</td></tr>\n",
       "\t<tr><th scope=row>Sleep.Quality</th><td>0.0000000</td></tr>\n",
       "\t<tr><th scope=row>Sleep.Duration</th><td>0.0000000</td></tr>\n",
       "\t<tr><th scope=row>Fatigue</th><td>0.2035412</td></tr>\n",
       "\t<tr><th scope=row>Soreness</th><td>0.0000000</td></tr>\n",
       "\t<tr><th scope=row>Stress</th><td>0.0000000</td></tr>\n",
       "</tbody>\n",
       "</table>\n"
      ],
      "text/latex": [
       "A data.frame: 8 × 1\n",
       "\\begin{tabular}{r|l}\n",
       "  & Pr(>\\textbar{}t\\textbar{})\\\\\n",
       "  & <dbl>\\\\\n",
       "\\hline\n",
       "\t(Intercept) & 0.0000000\\\\\n",
       "\tDate & 0.8153284\\\\\n",
       "\tRPE & 0.0000000\\\\\n",
       "\tSleep.Quality & 0.0000000\\\\\n",
       "\tSleep.Duration & 0.0000000\\\\\n",
       "\tFatigue & 0.2035412\\\\\n",
       "\tSoreness & 0.0000000\\\\\n",
       "\tStress & 0.0000000\\\\\n",
       "\\end{tabular}\n"
      ],
      "text/markdown": [
       "\n",
       "A data.frame: 8 × 1\n",
       "\n",
       "| <!--/--> | Pr(&gt;|t|) &lt;dbl&gt; |\n",
       "|---|---|\n",
       "| (Intercept) | 0.0000000 |\n",
       "| Date | 0.8153284 |\n",
       "| RPE | 0.0000000 |\n",
       "| Sleep.Quality | 0.0000000 |\n",
       "| Sleep.Duration | 0.0000000 |\n",
       "| Fatigue | 0.2035412 |\n",
       "| Soreness | 0.0000000 |\n",
       "| Stress | 0.0000000 |\n",
       "\n"
      ],
      "text/plain": [
       "               Pr(>|t|) \n",
       "(Intercept)    0.0000000\n",
       "Date           0.8153284\n",
       "RPE            0.0000000\n",
       "Sleep.Quality  0.0000000\n",
       "Sleep.Duration 0.0000000\n",
       "Fatigue        0.2035412\n",
       "Soreness       0.0000000\n",
       "Stress         0.0000000"
      ]
     },
     "metadata": {},
     "output_type": "display_data"
    }
   ],
   "source": [
    "as.data.frame(coefficients(summary(m)))['Pr(>|t|)']"
   ]
  },
  {
   "cell_type": "code",
   "execution_count": 53,
   "id": "513c7c64",
   "metadata": {},
   "outputs": [
    {
     "name": "stderr",
     "output_type": "stream",
     "text": [
      "Warning message in summary.lm(m):\n",
      "\"essentially perfect fit: summary may be unreliable\"\n"
     ]
    },
    {
     "data": {
      "text/plain": [
       "\n",
       "Call:\n",
       "lm(formula = Readiness.Score ~ ., data = data_no_name_date)\n",
       "\n",
       "Residuals:\n",
       "       Min         1Q     Median         3Q        Max \n",
       "-6.307e-13 -6.070e-15  3.380e-15  1.200e-14  3.358e-14 \n",
       "\n",
       "Coefficients:\n",
       "                 Estimate Std. Error    t value Pr(>|t|)    \n",
       "(Intercept)     7.500e+01  4.706e-14  1.594e+15   <2e-16 ***\n",
       "RPE             1.000e+00  3.880e-15  2.577e+14   <2e-16 ***\n",
       "Sleep.Quality  -1.000e+00  6.305e-15 -1.586e+14   <2e-16 ***\n",
       "Sleep.Duration -1.000e+00  6.102e-15 -1.639e+14   <2e-16 ***\n",
       "Fatigue        -3.267e-15  2.525e-15 -1.294e+00    0.197    \n",
       "Soreness        1.000e+00  2.577e-15  3.880e+14   <2e-16 ***\n",
       "Stress          1.000e+00  2.646e-15  3.780e+14   <2e-16 ***\n",
       "---\n",
       "Signif. codes:  0 '***' 0.001 '**' 0.01 '*' 0.05 '.' 0.1 ' ' 1\n",
       "\n",
       "Residual standard error: 4.941e-14 on 177 degrees of freedom\n",
       "Multiple R-squared:      1,\tAdjusted R-squared:      1 \n",
       "F-statistic: 1.139e+29 on 6 and 177 DF,  p-value: < 2.2e-16\n"
      ]
     },
     "metadata": {},
     "output_type": "display_data"
    },
    {
     "name": "stderr",
     "output_type": "stream",
     "text": [
      "Warning message in summary.lm(m):\n",
      "\"essentially perfect fit: summary may be unreliable\"\n"
     ]
    },
    {
     "data": {
      "text/html": [
       "<table class=\"dataframe\">\n",
       "<caption>A data.frame: 7 × 1</caption>\n",
       "<thead>\n",
       "\t<tr><th></th><th scope=col>Pr(&gt;|t|)</th></tr>\n",
       "\t<tr><th></th><th scope=col>&lt;dbl&gt;</th></tr>\n",
       "</thead>\n",
       "<tbody>\n",
       "\t<tr><th scope=row>(Intercept)</th><td>0.0000000</td></tr>\n",
       "\t<tr><th scope=row>RPE</th><td>0.0000000</td></tr>\n",
       "\t<tr><th scope=row>Sleep.Quality</th><td>0.0000000</td></tr>\n",
       "\t<tr><th scope=row>Sleep.Duration</th><td>0.0000000</td></tr>\n",
       "\t<tr><th scope=row>Fatigue</th><td>0.1974058</td></tr>\n",
       "\t<tr><th scope=row>Soreness</th><td>0.0000000</td></tr>\n",
       "\t<tr><th scope=row>Stress</th><td>0.0000000</td></tr>\n",
       "</tbody>\n",
       "</table>\n"
      ],
      "text/latex": [
       "A data.frame: 7 × 1\n",
       "\\begin{tabular}{r|l}\n",
       "  & Pr(>\\textbar{}t\\textbar{})\\\\\n",
       "  & <dbl>\\\\\n",
       "\\hline\n",
       "\t(Intercept) & 0.0000000\\\\\n",
       "\tRPE & 0.0000000\\\\\n",
       "\tSleep.Quality & 0.0000000\\\\\n",
       "\tSleep.Duration & 0.0000000\\\\\n",
       "\tFatigue & 0.1974058\\\\\n",
       "\tSoreness & 0.0000000\\\\\n",
       "\tStress & 0.0000000\\\\\n",
       "\\end{tabular}\n"
      ],
      "text/markdown": [
       "\n",
       "A data.frame: 7 × 1\n",
       "\n",
       "| <!--/--> | Pr(&gt;|t|) &lt;dbl&gt; |\n",
       "|---|---|\n",
       "| (Intercept) | 0.0000000 |\n",
       "| RPE | 0.0000000 |\n",
       "| Sleep.Quality | 0.0000000 |\n",
       "| Sleep.Duration | 0.0000000 |\n",
       "| Fatigue | 0.1974058 |\n",
       "| Soreness | 0.0000000 |\n",
       "| Stress | 0.0000000 |\n",
       "\n"
      ],
      "text/plain": [
       "               Pr(>|t|) \n",
       "(Intercept)    0.0000000\n",
       "RPE            0.0000000\n",
       "Sleep.Quality  0.0000000\n",
       "Sleep.Duration 0.0000000\n",
       "Fatigue        0.1974058\n",
       "Soreness       0.0000000\n",
       "Stress         0.0000000"
      ]
     },
     "metadata": {},
     "output_type": "display_data"
    },
    {
     "name": "stderr",
     "output_type": "stream",
     "text": [
      "Warning message in summary.lm(object, ...):\n",
      "\"essentially perfect fit: summary may be unreliable\"\n"
     ]
    },
    {
     "data": {
      "text/html": [
       "<style>\n",
       ".dl-inline {width: auto; margin:0; padding: 0}\n",
       ".dl-inline>dt, .dl-inline>dd {float: none; width: auto; display: inline-block}\n",
       ".dl-inline>dt::after {content: \":\\0020\"; padding-right: .5ex}\n",
       ".dl-inline>dt:not(:first-of-type) {padding-left: .5ex}\n",
       "</style><dl class=dl-inline><dt>RPE</dt><dd>1.06781846995198</dd><dt>Sleep.Quality</dt><dd>2.5760592307529</dd><dt>Sleep.Duration</dt><dd>2.54501793543335</dd><dt>Fatigue</dt><dd>1.05382033419533</dd><dt>Soreness</dt><dd>1.04271606283749</dd><dt>Stress</dt><dd>1.02122277985838</dd></dl>\n"
      ],
      "text/latex": [
       "\\begin{description*}\n",
       "\\item[RPE] 1.06781846995198\n",
       "\\item[Sleep.Quality] 2.5760592307529\n",
       "\\item[Sleep.Duration] 2.54501793543335\n",
       "\\item[Fatigue] 1.05382033419533\n",
       "\\item[Soreness] 1.04271606283749\n",
       "\\item[Stress] 1.02122277985838\n",
       "\\end{description*}\n"
      ],
      "text/markdown": [
       "RPE\n",
       ":   1.06781846995198Sleep.Quality\n",
       ":   2.5760592307529Sleep.Duration\n",
       ":   2.54501793543335Fatigue\n",
       ":   1.05382033419533Soreness\n",
       ":   1.04271606283749Stress\n",
       ":   1.02122277985838\n",
       "\n"
      ],
      "text/plain": [
       "           RPE  Sleep.Quality Sleep.Duration        Fatigue       Soreness \n",
       "      1.067818       2.576059       2.545018       1.053820       1.042716 \n",
       "        Stress \n",
       "      1.021223 "
      ]
     },
     "metadata": {},
     "output_type": "display_data"
    },
    {
     "data": {
      "text/plain": [
       "\n",
       "Call:\n",
       "lm(formula = Readiness.Score ~ Sleep.Quality + Fatigue + Soreness, \n",
       "    data = data_no_name_date)\n",
       "\n",
       "Residuals:\n",
       "    Min      1Q  Median      3Q     Max \n",
       "-3.8099 -1.3035 -0.2074  1.2843  4.2584 \n",
       "\n",
       "Coefficients:\n",
       "              Estimate Std. Error t value Pr(>|t|)    \n",
       "(Intercept)   86.83508    1.36112  63.797   <2e-16 ***\n",
       "Sleep.Quality -1.99499    0.14605 -13.660   <2e-16 ***\n",
       "Fatigue        0.03833    0.09218   0.416    0.678    \n",
       "Soreness       1.02704    0.09453  10.865   <2e-16 ***\n",
       "---\n",
       "Signif. codes:  0 '***' 0.001 '**' 0.01 '*' 0.05 '.' 0.1 ' ' 1\n",
       "\n",
       "Residual standard error: 1.834 on 180 degrees of freedom\n",
       "Multiple R-squared:  0.6372,\tAdjusted R-squared:  0.6312 \n",
       "F-statistic: 105.4 on 3 and 180 DF,  p-value: < 2.2e-16\n"
      ]
     },
     "metadata": {},
     "output_type": "display_data"
    },
    {
     "name": "stderr",
     "output_type": "stream",
     "text": [
      "Warning message in summary.lm(x):\n",
      "\"essentially perfect fit: summary may be unreliable\"\n",
      "Warning message in summary.lm(x):\n",
      "\"essentially perfect fit: summary may be unreliable\"\n"
     ]
    },
    {
     "data": {
      "text/html": [
       "<table class=\"dataframe\">\n",
       "<caption>A tibble: 1 × 12</caption>\n",
       "<thead>\n",
       "\t<tr><th scope=col>r.squared</th><th scope=col>adj.r.squared</th><th scope=col>sigma</th><th scope=col>statistic</th><th scope=col>p.value</th><th scope=col>df</th><th scope=col>logLik</th><th scope=col>AIC</th><th scope=col>BIC</th><th scope=col>deviance</th><th scope=col>df.residual</th><th scope=col>nobs</th></tr>\n",
       "\t<tr><th scope=col>&lt;dbl&gt;</th><th scope=col>&lt;dbl&gt;</th><th scope=col>&lt;dbl&gt;</th><th scope=col>&lt;dbl&gt;</th><th scope=col>&lt;dbl&gt;</th><th scope=col>&lt;dbl&gt;</th><th scope=col>&lt;dbl&gt;</th><th scope=col>&lt;dbl&gt;</th><th scope=col>&lt;dbl&gt;</th><th scope=col>&lt;dbl&gt;</th><th scope=col>&lt;int&gt;</th><th scope=col>&lt;int&gt;</th></tr>\n",
       "</thead>\n",
       "<tbody>\n",
       "\t<tr><td>1</td><td>1</td><td>4.940621e-14</td><td>1.13906e+29</td><td>0</td><td>6</td><td>5380.004</td><td>-10744.01</td><td>-10718.29</td><td>4.320523e-25</td><td>177</td><td>184</td></tr>\n",
       "</tbody>\n",
       "</table>\n"
      ],
      "text/latex": [
       "A tibble: 1 × 12\n",
       "\\begin{tabular}{llllllllllll}\n",
       " r.squared & adj.r.squared & sigma & statistic & p.value & df & logLik & AIC & BIC & deviance & df.residual & nobs\\\\\n",
       " <dbl> & <dbl> & <dbl> & <dbl> & <dbl> & <dbl> & <dbl> & <dbl> & <dbl> & <dbl> & <int> & <int>\\\\\n",
       "\\hline\n",
       "\t 1 & 1 & 4.940621e-14 & 1.13906e+29 & 0 & 6 & 5380.004 & -10744.01 & -10718.29 & 4.320523e-25 & 177 & 184\\\\\n",
       "\\end{tabular}\n"
      ],
      "text/markdown": [
       "\n",
       "A tibble: 1 × 12\n",
       "\n",
       "| r.squared &lt;dbl&gt; | adj.r.squared &lt;dbl&gt; | sigma &lt;dbl&gt; | statistic &lt;dbl&gt; | p.value &lt;dbl&gt; | df &lt;dbl&gt; | logLik &lt;dbl&gt; | AIC &lt;dbl&gt; | BIC &lt;dbl&gt; | deviance &lt;dbl&gt; | df.residual &lt;int&gt; | nobs &lt;int&gt; |\n",
       "|---|---|---|---|---|---|---|---|---|---|---|---|\n",
       "| 1 | 1 | 4.940621e-14 | 1.13906e+29 | 0 | 6 | 5380.004 | -10744.01 | -10718.29 | 4.320523e-25 | 177 | 184 |\n",
       "\n"
      ],
      "text/plain": [
       "  r.squared adj.r.squared sigma        statistic   p.value df logLik  \n",
       "1 1         1             4.940621e-14 1.13906e+29 0       6  5380.004\n",
       "  AIC       BIC       deviance     df.residual nobs\n",
       "1 -10744.01 -10718.29 4.320523e-25 177         184 "
      ]
     },
     "metadata": {},
     "output_type": "display_data"
    },
    {
     "data": {
      "text/html": [
       "<table class=\"dataframe\">\n",
       "<caption>A tibble: 1 × 12</caption>\n",
       "<thead>\n",
       "\t<tr><th scope=col>r.squared</th><th scope=col>adj.r.squared</th><th scope=col>sigma</th><th scope=col>statistic</th><th scope=col>p.value</th><th scope=col>df</th><th scope=col>logLik</th><th scope=col>AIC</th><th scope=col>BIC</th><th scope=col>deviance</th><th scope=col>df.residual</th><th scope=col>nobs</th></tr>\n",
       "\t<tr><th scope=col>&lt;dbl&gt;</th><th scope=col>&lt;dbl&gt;</th><th scope=col>&lt;dbl&gt;</th><th scope=col>&lt;dbl&gt;</th><th scope=col>&lt;dbl&gt;</th><th scope=col>&lt;dbl&gt;</th><th scope=col>&lt;dbl&gt;</th><th scope=col>&lt;dbl&gt;</th><th scope=col>&lt;dbl&gt;</th><th scope=col>&lt;dbl&gt;</th><th scope=col>&lt;int&gt;</th><th scope=col>&lt;int&gt;</th></tr>\n",
       "</thead>\n",
       "<tbody>\n",
       "\t<tr><td>0.6372236</td><td>0.6311774</td><td>1.833638</td><td>105.3912</td><td>2.006247e-39</td><td>3</td><td>-370.6222</td><td>751.2444</td><td>767.3191</td><td>605.2012</td><td>180</td><td>184</td></tr>\n",
       "</tbody>\n",
       "</table>\n"
      ],
      "text/latex": [
       "A tibble: 1 × 12\n",
       "\\begin{tabular}{llllllllllll}\n",
       " r.squared & adj.r.squared & sigma & statistic & p.value & df & logLik & AIC & BIC & deviance & df.residual & nobs\\\\\n",
       " <dbl> & <dbl> & <dbl> & <dbl> & <dbl> & <dbl> & <dbl> & <dbl> & <dbl> & <dbl> & <int> & <int>\\\\\n",
       "\\hline\n",
       "\t 0.6372236 & 0.6311774 & 1.833638 & 105.3912 & 2.006247e-39 & 3 & -370.6222 & 751.2444 & 767.3191 & 605.2012 & 180 & 184\\\\\n",
       "\\end{tabular}\n"
      ],
      "text/markdown": [
       "\n",
       "A tibble: 1 × 12\n",
       "\n",
       "| r.squared &lt;dbl&gt; | adj.r.squared &lt;dbl&gt; | sigma &lt;dbl&gt; | statistic &lt;dbl&gt; | p.value &lt;dbl&gt; | df &lt;dbl&gt; | logLik &lt;dbl&gt; | AIC &lt;dbl&gt; | BIC &lt;dbl&gt; | deviance &lt;dbl&gt; | df.residual &lt;int&gt; | nobs &lt;int&gt; |\n",
       "|---|---|---|---|---|---|---|---|---|---|---|---|\n",
       "| 0.6372236 | 0.6311774 | 1.833638 | 105.3912 | 2.006247e-39 | 3 | -370.6222 | 751.2444 | 767.3191 | 605.2012 | 180 | 184 |\n",
       "\n"
      ],
      "text/plain": [
       "  r.squared adj.r.squared sigma    statistic p.value      df logLik    AIC     \n",
       "1 0.6372236 0.6311774     1.833638 105.3912  2.006247e-39 3  -370.6222 751.2444\n",
       "  BIC      deviance df.residual nobs\n",
       "1 767.3191 605.2012 180         184 "
      ]
     },
     "metadata": {},
     "output_type": "display_data"
    }
   ],
   "source": [
    "## What factors were most predictive of readiness score?\n",
    "# Fit multiple regression model\n",
    "data_no_name_date <- data %>%  \n",
    "  select(-Name,-Date)\n",
    "m <- lm(Readiness.Score ~ ., data = data_no_name_date )\n",
    "\n",
    "# View summary of model\n",
    "summary(m)\n",
    "\n",
    "# Identify signicoef(summary(m)) %>% \n",
    "coef(summary(m)) %>%\n",
    "  as.data.frame() %>%\n",
    "  .['Pr(>|t|)']\n",
    "\n",
    "# Check variance inflation factors\n",
    "car::vif(m)\n",
    "\n",
    "# Try model with only significant predictors \n",
    "m2 <- lm(Readiness.Score ~ Sleep.Quality + Fatigue + Soreness, data = data_no_name_date)\n",
    "summary(m2)\n",
    "\n",
    "# Compare model performance\n",
    "broom::glance(m)\n",
    "broom::glance(m2)"
   ]
  },
  {
   "cell_type": "code",
   "execution_count": 69,
   "id": "59edd37a",
   "metadata": {},
   "outputs": [
    {
     "name": "stderr",
     "output_type": "stream",
     "text": [
      "\u001b[1m\u001b[22m`geom_smooth()` using method = 'loess' and formula = 'y ~ x'\n"
     ]
    },
    {
     "data": {
      "image/png": "[encoded data removed]",
      "text/plain": [
       "plot without title"
      ]
     },
     "metadata": {
      "image/png": {
       "height": 420,
       "width": 420
      }
     },
     "output_type": "display_data"
    },
    {
     "data": {
      "image/png": "[encoded data removed]",
      "text/plain": [
       "plot without title"
      ]
     },
     "metadata": {
      "image/png": {
       "height": 420,
       "width": 420
      }
     },
     "output_type": "display_data"
    },
    {
     "data": {
      "image/png": "[encoded data removed]",
      "text/plain": [
       "plot without title"
      ]
     },
     "metadata": {
      "image/png": {
       "height": 420,
       "width": 420
      }
     },
     "output_type": "display_data"
    }
   ],
   "source": [
    "## compare readiness scores before, During and after the start of the season using visualizations\n",
    "## Create pre/mid/post season factor\n",
    "# Create date breaks\n",
    "\n",
    "start <- as.Date(\"2023-07-05\")\n",
    "end <- as.Date(\"2023-08-11\")\n",
    "\n",
    "pre_end <- start + (end - start)/3\n",
    "mid_end <- pre_end + (end - start)/3\n",
    "\n",
    "# Create factor\n",
    "df <- data %>% \n",
    "  mutate(Season = case_when(\n",
    "    Date < pre_end ~ \"Pre\",\n",
    "    between(Date, pre_end, mid_end) ~ \"Mid\",\n",
    "    Date > mid_end ~ \"Post\"\n",
    "  ))\n",
    "\n",
    "# Plot readiness over season\n",
    "ggplot(df, aes(Date, Readiness.Score, color = Season)) +\n",
    "  geom_point() +\n",
    "  geom_smooth()\n",
    "\n",
    "# Boxplot of readiness \n",
    "ggplot(df, aes(x = Season, y = Readiness.Score, fill = Season)) + \n",
    "  geom_boxplot()\n",
    "\n",
    "# Distribution of soreness\n",
    "ggplot(df, aes(x = Soreness, fill = Season)) +\n",
    "  geom_density(alpha = 0.5) +\n",
    "  labs(title = \"Soreness Before, During and After Season\")"
   ]
  },
  {
   "cell_type": "code",
   "execution_count": null,
   "id": "b0059010",
   "metadata": {},
   "outputs": [],
   "source": []
  }
 ],
 "metadata": {
  "kernelspec": {
   "display_name": "R",
   "language": "R",
   "name": "ir"
  },
  "language_info": {
   "codemirror_mode": "r",
   "file_extension": ".r",
   "mimetype": "text/x-r-source",
   "name": "R",
   "pygments_lexer": "r",
   "version": "4.3.0"
  },
  "vp": {
   "vp_config_version": "1.0.0",
   "vp_menu_width": 273,
   "vp_note_display": false,
   "vp_note_width": 0,
   "vp_position": {
    "width": 278
   },
   "vp_section_display": false,
   "vp_signature": "VisualPython"
  }
 },
 "nbformat": 4,
 "nbformat_minor": 5
}
